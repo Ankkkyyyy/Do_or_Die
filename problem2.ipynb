{
 "cells": [
  {
   "attachments": {},
   "cell_type": "markdown",
   "metadata": {},
   "source": [
    "Problem 2:    \n",
    "The head of the linked list contains an unique integer, while nums is a subset on linked list values. The output   \n",
    "needs to be a number of connected components in nums where two values are connected if they appear   \n",
    "consecutively in the linked list   "
   ]
  },
  {
   "cell_type": "code",
   "execution_count": 2,
   "metadata": {},
   "outputs": [],
   "source": [
    "class Node: \n",
    "    def __init__(self,data):\n",
    "        self.data = data \n",
    "        self.next = None "
   ]
  },
  {
   "cell_type": "code",
   "execution_count": 4,
   "metadata": {},
   "outputs": [],
   "source": [
    "class Linkedlist:\n",
    "    def __init__(self):\n",
    "        self.head = None\n",
    "\n",
    "    # For traversing \n",
    "    def print(self):\n",
    "        temp = self.head\n",
    "        while temp is not None:\n",
    "            print(temp.data,end=\"->\")\n",
    "            temp = temp.next\n",
    "\n",
    "    def numComponents(self, G):\n",
    "        temphead = self.head \n",
    "        setG = set(G)\n",
    "        res = 0\n",
    "        while temphead:\n",
    "            if temphead.data in setG and (temphead.next == None or temphead.next.data not in setG):\n",
    "                res += 1\n",
    "            temphead = temphead.next\n",
    "        return res"
   ]
  },
  {
   "cell_type": "code",
   "execution_count": 30,
   "metadata": {},
   "outputs": [
    {
     "name": "stdout",
     "output_type": "stream",
     "text": [
      "0->1->2->3->"
     ]
    },
    {
     "data": {
      "text/plain": [
       "2"
      ]
     },
     "execution_count": 30,
     "metadata": {},
     "output_type": "execute_result"
    }
   ],
   "source": [
    "mylinkedlist = Linkedlist()\n",
    "zerothNode = Node(0)\n",
    "firstNode = Node(1)\n",
    "secondNode = Node(2)\n",
    "thirdNode = Node(3)\n",
    "\n",
    "mylinkedlist.head = zerothNode\n",
    "zerothNode.next = firstNode\n",
    "firstNode.next = secondNode\n",
    "secondNode.next =thirdNode\n",
    "\n",
    "# secondNode.next = firstNode\n",
    "mylinkedlist.print()\n",
    "mylinkedlist.numComponents([0,1,3])"
   ]
  },
  {
   "cell_type": "code",
   "execution_count": 32,
   "metadata": {},
   "outputs": [
    {
     "name": "stdout",
     "output_type": "stream",
     "text": [
      "0->1->2->3->4->"
     ]
    },
    {
     "data": {
      "text/plain": [
       "2"
      ]
     },
     "execution_count": 32,
     "metadata": {},
     "output_type": "execute_result"
    }
   ],
   "source": [
    "mylinkedlist = Linkedlist()\n",
    "zerothNode = Node(0)\n",
    "firstNode = Node(1)\n",
    "secondNode = Node(2)\n",
    "thirdNode = Node(3)\n",
    "fourthNode = Node(4)\n",
    "\n",
    "mylinkedlist.head = zerothNode\n",
    "zerothNode.next = firstNode\n",
    "firstNode.next = secondNode\n",
    "secondNode.next =thirdNode\n",
    "thirdNode.next = fourthNode\n",
    "\n",
    "# secondNode.next = firstNode\n",
    "mylinkedlist.print()\n",
    "mylinkedlist.numComponents([0,3,1,4])"
   ]
  }
 ],
 "metadata": {
  "kernelspec": {
   "display_name": "Python 3",
   "language": "python",
   "name": "python3"
  },
  "language_info": {
   "codemirror_mode": {
    "name": "ipython",
    "version": 3
   },
   "file_extension": ".py",
   "mimetype": "text/x-python",
   "name": "python",
   "nbconvert_exporter": "python",
   "pygments_lexer": "ipython3",
   "version": "3.9.13"
  },
  "orig_nbformat": 4
 },
 "nbformat": 4,
 "nbformat_minor": 2
}
