{
 "cells": [
  {
   "attachments": {},
   "cell_type": "markdown",
   "metadata": {},
   "source": [
    "#### detecting cycle "
   ]
  },
  {
   "cell_type": "code",
   "execution_count": 1,
   "metadata": {},
   "outputs": [],
   "source": [
    "class Node: \n",
    "    def __init__(self,data):\n",
    "        self.data = data \n",
    "        self.next = None "
   ]
  },
  {
   "cell_type": "code",
   "execution_count": 45,
   "metadata": {},
   "outputs": [],
   "source": [
    "class Linkedlist:\n",
    "    def __init__(self):\n",
    "        self.head = None\n",
    "\n",
    "    # For traversing \n",
    "    def print(self):\n",
    "        temp = self.head\n",
    "        while temp is not None:\n",
    "            print(temp.data,end=\"->\")\n",
    "            temp = temp.next\n",
    "\n",
    "\n",
    "    # --------------------------  First Approach ----------------------\n",
    "    def detectcycle(self):\n",
    "        vis = set()\n",
    "        temphead = self.head\n",
    "        while temphead is not None:\n",
    "            if temphead in vis:\n",
    "                return True \n",
    "            vis.add(temphead)\n",
    "            temphead= temphead.next  \n",
    "        return False \n",
    "    \n",
    "    # ---------------------------  Second Approach ------------------------------ \n",
    "    \n",
    "    # ---------------- Floyd Cycle ---------------- \n",
    "    def detectcycle2(self):\n",
    "        slow = self.head \n",
    "        fast = self.head \n",
    "        while fast and fast.next:\n",
    "            slow = slow.next \n",
    "            fast = fast.next.next \n",
    "            if slow == fast:\n",
    "                return True \n",
    "        return False "
   ]
  },
  {
   "cell_type": "code",
   "execution_count": 47,
   "metadata": {},
   "outputs": [
    {
     "name": "stdout",
     "output_type": "stream",
     "text": [
      "Linked List is not cyclic ! \n",
      "Linked List is not cyclic ! \n"
     ]
    }
   ],
   "source": [
    "mylinkedlist = Linkedlist()\n",
    "firstNode = Node(1)\n",
    "secondNode = Node(2)\n",
    "\n",
    "\n",
    "mylinkedlist.head = firstNode\n",
    "firstNode.next = secondNode\n",
    "# secondNode.next = firstNode\n",
    "# mylinkedlist.print()\n",
    "\n",
    "if (mylinkedlist.detectcycle()):\n",
    "    print(\"Linked List is Cyclic\")\n",
    "else:\n",
    "    print(\"Linked List is not cyclic ! \")\n",
    "\n",
    "if (mylinkedlist.detectcycle2()):\n",
    "    print(\"Linked List is Cyclic\")\n",
    "else:\n",
    "    print(\"Linked List is not cyclic ! \")\n"
   ]
  },
  {
   "cell_type": "code",
   "execution_count": null,
   "metadata": {},
   "outputs": [],
   "source": []
  },
  {
   "cell_type": "code",
   "execution_count": null,
   "metadata": {},
   "outputs": [],
   "source": []
  }
 ],
 "metadata": {
  "kernelspec": {
   "display_name": "Python 3",
   "language": "python",
   "name": "python3"
  },
  "language_info": {
   "codemirror_mode": {
    "name": "ipython",
    "version": 3
   },
   "file_extension": ".py",
   "mimetype": "text/x-python",
   "name": "python",
   "nbconvert_exporter": "python",
   "pygments_lexer": "ipython3",
   "version": "3.9.13"
  },
  "orig_nbformat": 4
 },
 "nbformat": 4,
 "nbformat_minor": 2
}
